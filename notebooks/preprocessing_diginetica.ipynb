{
  "nbformat": 4,
  "nbformat_minor": 0,
  "metadata": {
    "colab": {
      "name": "T443547 | Preprocessing of Diginetica Session Dataset | Run Method 1",
      "provenance": [],
      "collapsed_sections": [],
      "authorship_tag": "ABX9TyNOPKdXXApVke6f59Sh67Dk",
      "include_colab_link": true
    },
    "kernelspec": {
      "name": "python3",
      "display_name": "Python 3"
    },
    "language_info": {
      "name": "python"
    }
  },
  "cells": [
    {
      "cell_type": "markdown",
      "metadata": {
        "id": "view-in-github",
        "colab_type": "text"
      },
      "source": [
        "<a href=\"https://colab.research.google.com/gist/sparsh-ai/fbaf4627cbd3fe5b45efc2f6ab50920a/t443547-preprocessing-of-diginetica-session-dataset.ipynb\" target=\"_parent\"><img src=\"https://colab.research.google.com/assets/colab-badge.svg\" alt=\"Open In Colab\"/></a>"
      ]
    },
    {
      "cell_type": "code",
      "metadata": {
        "colab": {
          "base_uri": "https://localhost:8080/"
        },
        "id": "p9K5Gnt00PjY",
        "outputId": "99e115ed-cf93-4ff2-e5bf-748a92fe541a"
      },
      "source": [
        "!wget -q --show-progress https://github.com/RecoHut-Datasets/diginetica/raw/main/train-item-views.csv"
      ],
      "execution_count": null,
      "outputs": [
        {
          "output_type": "stream",
          "name": "stdout",
          "text": [
            "\rtrain-item-views.cs   0%[                    ]       0  --.-KB/s               \rtrain-item-views.cs 100%[===================>]  40.69M   216MB/s    in 0.2s    \n"
          ]
        }
      ]
    },
    {
      "cell_type": "code",
      "metadata": {
        "colab": {
          "base_uri": "https://localhost:8080/"
        },
        "id": "C1czoR8h1-P1",
        "outputId": "1a0dae49-6539-444a-c620-81aaa0d25c26"
      },
      "source": [
        "!head train-item-views.csv"
      ],
      "execution_count": null,
      "outputs": [
        {
          "output_type": "stream",
          "name": "stdout",
          "text": [
            "sessionId;userId;itemId;timeframe;eventdate\n",
            "1;NA;81766;526309;2016-05-09\n",
            "1;NA;31331;1031018;2016-05-09\n",
            "1;NA;32118;243569;2016-05-09\n",
            "1;NA;9654;75848;2016-05-09\n",
            "1;NA;32627;1112408;2016-05-09\n",
            "1;NA;33043;173912;2016-05-09\n",
            "1;NA;12352;329870;2016-05-09\n",
            "1;NA;35077;390072;2016-05-09\n",
            "1;NA;36118;487369;2016-05-09\n"
          ]
        }
      ]
    },
    {
      "cell_type": "markdown",
      "metadata": {
        "id": "sTS_iB_m1A48"
      },
      "source": [
        "## Method 1"
      ]
    },
    {
      "cell_type": "code",
      "metadata": {
        "colab": {
          "base_uri": "https://localhost:8080/",
          "height": 206
        },
        "id": "iADt8Lu03Mwy",
        "outputId": "62a73613-827c-445e-ebe0-3ca5be9f719b"
      },
      "source": [
        "df = pd.read_csv('/content/train-item-views.csv', sep=';')\n",
        "df.head()"
      ],
      "execution_count": null,
      "outputs": [
        {
          "output_type": "execute_result",
          "data": {
            "text/html": [
              "<div>\n",
              "<style scoped>\n",
              "    .dataframe tbody tr th:only-of-type {\n",
              "        vertical-align: middle;\n",
              "    }\n",
              "\n",
              "    .dataframe tbody tr th {\n",
              "        vertical-align: top;\n",
              "    }\n",
              "\n",
              "    .dataframe thead th {\n",
              "        text-align: right;\n",
              "    }\n",
              "</style>\n",
              "<table border=\"1\" class=\"dataframe\">\n",
              "  <thead>\n",
              "    <tr style=\"text-align: right;\">\n",
              "      <th></th>\n",
              "      <th>sessionId;userId;itemId;timeframe;eventdate</th>\n",
              "    </tr>\n",
              "  </thead>\n",
              "  <tbody>\n",
              "    <tr>\n",
              "      <th>0</th>\n",
              "      <td>1;NA;81766;526309;2016-05-09</td>\n",
              "    </tr>\n",
              "    <tr>\n",
              "      <th>1</th>\n",
              "      <td>1;NA;31331;1031018;2016-05-09</td>\n",
              "    </tr>\n",
              "    <tr>\n",
              "      <th>2</th>\n",
              "      <td>1;NA;32118;243569;2016-05-09</td>\n",
              "    </tr>\n",
              "    <tr>\n",
              "      <th>3</th>\n",
              "      <td>1;NA;9654;75848;2016-05-09</td>\n",
              "    </tr>\n",
              "    <tr>\n",
              "      <th>4</th>\n",
              "      <td>1;NA;32627;1112408;2016-05-09</td>\n",
              "    </tr>\n",
              "  </tbody>\n",
              "</table>\n",
              "</div>"
            ],
            "text/plain": [
              "  sessionId;userId;itemId;timeframe;eventdate\n",
              "0                1;NA;81766;526309;2016-05-09\n",
              "1               1;NA;31331;1031018;2016-05-09\n",
              "2                1;NA;32118;243569;2016-05-09\n",
              "3                  1;NA;9654;75848;2016-05-09\n",
              "4               1;NA;32627;1112408;2016-05-09"
            ]
          },
          "metadata": {},
          "execution_count": 7
        }
      ]
    },
    {
      "cell_type": "code",
      "metadata": {
        "id": "9mPmTptN08qx"
      },
      "source": [
        "import time\n",
        "import csv\n",
        "import pickle\n",
        "import operator\n",
        "import datetime\n",
        "import os"
      ],
      "execution_count": null,
      "outputs": []
    },
    {
      "cell_type": "code",
      "metadata": {
        "id": "RHQ5V-Ke08oH"
      },
      "source": [
        "class DigineticaDataset:\n",
        "    def __init__(self, path='.'):\n",
        "        self.path = path\n",
        "\n",
        "    def preprocess(self):\n",
        "        dataset = os.path.join(self.path, 'train-item-views.csv')\n",
        "        print(\"-- Starting @ %ss\" % datetime.datetime.now())\n",
        "        with open(dataset, \"r\") as f:\n",
        "            reader = csv.DictReader(f, delimiter=';')\n",
        "            sess_clicks = {}\n",
        "            sess_date = {}\n",
        "            ctr = 0\n",
        "            curid = -1\n",
        "            curdate = None\n",
        "            for data in reader:\n",
        "                sessid = data['sessionId']\n",
        "                if curdate and not curid == sessid:\n",
        "                    date = ''\n",
        "                    date = time.mktime(time.strptime(curdate, '%Y-%m-%d'))\n",
        "                    sess_date[curid] = date\n",
        "                curid = sessid\n",
        "                item = data['itemId'], int(data['timeframe'])\n",
        "                curdate = ''\n",
        "                curdate = data['eventdate']\n",
        "                if sessid in sess_clicks:\n",
        "                    sess_clicks[sessid] += [item]\n",
        "                else:\n",
        "                    sess_clicks[sessid] = [item]\n",
        "                ctr += 1\n",
        "            date = ''\n",
        "            date = time.mktime(time.strptime(curdate, '%Y-%m-%d'))\n",
        "            for i in list(sess_clicks):\n",
        "                sorted_clicks = sorted(sess_clicks[i], key=operator.itemgetter(1))\n",
        "                sess_clicks[i] = [c[0] for c in sorted_clicks]\n",
        "            sess_date[curid] = date\n",
        "\n",
        "        print(\"-- Reading data @ %ss\" % datetime.datetime.now())\n",
        "\n",
        "        # Filter out length 1 sessions\n",
        "        for s in list(sess_clicks):\n",
        "            if len(sess_clicks[s]) == 1:\n",
        "                del sess_clicks[s]\n",
        "                del sess_date[s]\n",
        "\n",
        "        # Count number of times each item appears\n",
        "        iid_counts = {}\n",
        "        for s in sess_clicks:\n",
        "            seq = sess_clicks[s]\n",
        "            for iid in seq:\n",
        "                if iid in iid_counts:\n",
        "                    iid_counts[iid] += 1\n",
        "                else:\n",
        "                    iid_counts[iid] = 1\n",
        "\n",
        "        sorted_counts = sorted(iid_counts.items(), key=operator.itemgetter(1))\n",
        "\n",
        "        length = len(sess_clicks)\n",
        "        for s in list(sess_clicks):\n",
        "            curseq = sess_clicks[s]\n",
        "            filseq = list(filter(lambda i: iid_counts[i] >= 5, curseq))\n",
        "            if len(filseq) < 2:\n",
        "                del sess_clicks[s]\n",
        "                del sess_date[s]\n",
        "            else:\n",
        "                sess_clicks[s] = filseq\n",
        "\n",
        "        # Split out test set based on dates\n",
        "        dates = list(sess_date.items())\n",
        "        maxdate = dates[0][1]\n",
        "\n",
        "        for _, date in dates:\n",
        "            if maxdate < date:\n",
        "                maxdate = date\n",
        "\n",
        "        # 7 days for test\n",
        "        splitdate = 0\n",
        "        splitdate = maxdate - 86400 * 7\n",
        "\n",
        "        print('Splitting date', splitdate)      # Yoochoose: ('Split date', 1411930799.0)\n",
        "        tra_sess = filter(lambda x: x[1] < splitdate, dates)\n",
        "        tes_sess = filter(lambda x: x[1] > splitdate, dates)\n",
        "\n",
        "        # Sort sessions by date\n",
        "        tra_sess = sorted(tra_sess, key=operator.itemgetter(1))     # [(sessionId, timestamp), (), ]\n",
        "        tes_sess = sorted(tes_sess, key=operator.itemgetter(1))     # [(sessionId, timestamp), (), ]\n",
        "        print(len(tra_sess))    # 186670    # 7966257\n",
        "        print(len(tes_sess))    # 15979     # 15324\n",
        "        print(tra_sess[:3])\n",
        "        print(tes_sess[:3])\n",
        "        \n",
        "        print(\"-- Splitting train set and test set @ %ss\" % datetime.datetime.now())\n",
        "\n",
        "        # Choosing item count >=5 gives approximately the same number of items as reported in paper\n",
        "        item_dict = {}\n",
        "        # Convert training sessions to sequences and renumber items to start from 1\n",
        "        def obtian_tra():\n",
        "            train_ids = []\n",
        "            train_seqs = []\n",
        "            train_dates = []\n",
        "            item_ctr = 1\n",
        "            for s, date in tra_sess:\n",
        "                seq = sess_clicks[s]\n",
        "                outseq = []\n",
        "                for i in seq:\n",
        "                    if i in item_dict:\n",
        "                        outseq += [item_dict[i]]\n",
        "                    else:\n",
        "                        outseq += [item_ctr]\n",
        "                        item_dict[i] = item_ctr\n",
        "                        item_ctr += 1\n",
        "                if len(outseq) < 2:  # Doesn't occur\n",
        "                    continue\n",
        "                train_ids += [s]\n",
        "                train_dates += [date]\n",
        "                train_seqs += [outseq]\n",
        "            print(item_ctr)     # 43098, 37484\n",
        "            return train_ids, train_dates, train_seqs\n",
        "\n",
        "\n",
        "        # Convert test sessions to sequences, ignoring items that do not appear in training set\n",
        "        def obtian_tes():\n",
        "            test_ids = []\n",
        "            test_seqs = []\n",
        "            test_dates = []\n",
        "            for s, date in tes_sess:\n",
        "                seq = sess_clicks[s]\n",
        "                outseq = []\n",
        "                for i in seq:\n",
        "                    if i in item_dict:\n",
        "                        outseq += [item_dict[i]]\n",
        "                if len(outseq) < 2:\n",
        "                    continue\n",
        "                test_ids += [s]\n",
        "                test_dates += [date]\n",
        "                test_seqs += [outseq]\n",
        "            return test_ids, test_dates, test_seqs\n",
        "\n",
        "        tra_ids, tra_dates, tra_seqs = obtian_tra()\n",
        "        tes_ids, tes_dates, tes_seqs = obtian_tes()\n",
        "\n",
        "        def process_seqs(iseqs, idates):\n",
        "            out_seqs = []\n",
        "            out_dates = []\n",
        "            labs = []\n",
        "            ids = []\n",
        "            for id, seq, date in zip(range(len(iseqs)), iseqs, idates):\n",
        "                for i in range(1, len(seq)):\n",
        "                    tar = seq[-i]\n",
        "                    labs += [tar]\n",
        "                    out_seqs += [seq[:-i]]\n",
        "                    out_dates += [date]\n",
        "                    ids += [id]\n",
        "            return out_seqs, out_dates, labs, ids\n",
        "\n",
        "        tr_seqs, tr_dates, tr_labs, tr_ids = process_seqs(tra_seqs, tra_dates)\n",
        "        te_seqs, te_dates, te_labs, te_ids = process_seqs(tes_seqs, tes_dates)\n",
        "        tra = (tr_seqs, tr_labs)\n",
        "        tes = (te_seqs, te_labs)\n",
        "        print(len(tr_seqs))\n",
        "        print(len(te_seqs))\n",
        "        print(tr_seqs[:3], tr_dates[:3], tr_labs[:3])\n",
        "        print(te_seqs[:3], te_dates[:3], te_labs[:3])\n",
        "        all = 0\n",
        "\n",
        "        for seq in tra_seqs:\n",
        "            all += len(seq)\n",
        "        for seq in tes_seqs:\n",
        "            all += len(seq)\n",
        "        print('avg length: ', all/(len(tra_seqs) + len(tes_seqs) * 1.0))\n",
        "\n",
        "\n",
        "        pickle.dump(tra, open('train.txt', 'wb'))\n",
        "        pickle.dump(tes, open('test.txt', 'wb'))\n",
        "        pickle.dump(tra_seqs, open('all_train_seq.txt', 'wb'))\n",
        "\n",
        "        print('Done.')"
      ],
      "execution_count": null,
      "outputs": []
    },
    {
      "cell_type": "code",
      "metadata": {
        "id": "WM2P5vMu1n6n"
      },
      "source": [
        "yc_data = DigineticaDataset(path='.')\n",
        "yc_data.preprocess()"
      ],
      "execution_count": null,
      "outputs": []
    },
    {
      "cell_type": "markdown",
      "metadata": {
        "id": "vlXCHf3T14sM"
      },
      "source": [
        "## Method 2"
      ]
    },
    {
      "cell_type": "code",
      "metadata": {
        "id": "YAe1mHdg3mOj"
      },
      "source": [
        "# import pandas as pd\n",
        "# import numpy as np"
      ],
      "execution_count": null,
      "outputs": []
    },
    {
      "cell_type": "code",
      "metadata": {
        "id": "2joR-cij3oSH"
      },
      "source": [
        "# def get_session_id(df, interval):\n",
        "#     df_prev = df.shift()\n",
        "#     is_new_session = (df.userId != df_prev.userId) | (\n",
        "#         df.timestamp - df_prev.timestamp > interval\n",
        "#     )\n",
        "#     session_id = is_new_session.cumsum() - 1\n",
        "#     return session_id\n",
        "\n",
        "\n",
        "# def group_sessions(df, interval):\n",
        "#     sessionId = get_session_id(df, interval)\n",
        "#     df = df.assign(sessionId=sessionId)\n",
        "#     return df\n",
        "\n",
        "\n",
        "# def filter_short_sessions(df, min_len=2):\n",
        "#     session_len = df.groupby('sessionId', sort=False).size()\n",
        "#     long_sessions = session_len[session_len >= min_len].index\n",
        "#     df_long = df[df.sessionId.isin(long_sessions)]\n",
        "#     return df_long\n",
        "\n",
        "\n",
        "# def filter_infreq_items(df, min_support=5):\n",
        "#     item_support = df.groupby('itemId', sort=False).size()\n",
        "#     freq_items = item_support[item_support >= min_support].index\n",
        "#     df_freq = df[df.itemId.isin(freq_items)]\n",
        "#     return df_freq\n",
        "\n",
        "\n",
        "# def filter_until_all_long_and_freq(df, min_len=2, min_support=5):\n",
        "#     while True:\n",
        "#         df_long = filter_short_sessions(df, min_len)\n",
        "#         df_freq = filter_infreq_items(df_long, min_support)\n",
        "#         if len(df_freq) == len(df):\n",
        "#             break\n",
        "#         df = df_freq\n",
        "#     return df\n",
        "\n",
        "\n",
        "# def truncate_long_sessions(df, max_len=20, is_sorted=False):\n",
        "#     if not is_sorted:\n",
        "#         df = df.sort_values(['sessionId', 'timestamp'])\n",
        "#     itemIdx = df.groupby('sessionId').cumcount()\n",
        "#     df_t = df[itemIdx < max_len]\n",
        "#     return df_t\n",
        "\n",
        "\n",
        "# def update_id(df, field):\n",
        "#     labels = pd.factorize(df[field])[0]\n",
        "#     kwargs = {field: labels}\n",
        "#     df = df.assign(**kwargs)\n",
        "#     return df\n",
        "\n",
        "\n",
        "# def remove_immediate_repeats(df):\n",
        "#     df_prev = df.shift()\n",
        "#     is_not_repeat = (df.sessionId != df_prev.sessionId) | (df.itemId != df_prev.itemId)\n",
        "#     df_no_repeat = df[is_not_repeat]\n",
        "#     return df_no_repeat\n",
        "\n",
        "\n",
        "# def reorder_sessions_by_endtime(df):\n",
        "#     endtime = df.groupby('sessionId', sort=False).timestamp.max()\n",
        "#     df_endtime = endtime.sort_values().reset_index()\n",
        "#     oid2nid = dict(zip(df_endtime.sessionId, df_endtime.index))\n",
        "#     sessionId_new = df.sessionId.map(oid2nid)\n",
        "#     df = df.assign(sessionId=sessionId_new)\n",
        "#     df = df.sort_values(['sessionId', 'timestamp'])\n",
        "#     return df\n",
        "\n",
        "\n",
        "# def keep_top_n_items(df, n):\n",
        "#     item_support = df.groupby('itemId', sort=False).size()\n",
        "#     top_items = item_support.nlargest(n).index\n",
        "#     df_top = df[df.itemId.isin(top_items)]\n",
        "#     return df_top\n",
        "\n",
        "\n",
        "# def split_by_time(df, timedelta):\n",
        "#     max_time = df.timestamp.max()\n",
        "#     end_time = df.groupby('sessionId').timestamp.max()\n",
        "#     split_time = max_time - timedelta\n",
        "#     train_sids = end_time[end_time < split_time].index\n",
        "#     df_train = df[df.sessionId.isin(train_sids)]\n",
        "#     df_test = df[~df.sessionId.isin(train_sids)]\n",
        "#     return df_train, df_test\n",
        "\n",
        "\n",
        "# def train_test_split(df, test_split=0.2):\n",
        "#     endtime = df.groupby('sessionId', sort=False).timestamp.max()\n",
        "#     endtime = endtime.sort_values()\n",
        "#     num_tests = int(len(endtime) * test_split)\n",
        "#     test_session_ids = endtime.index[-num_tests:]\n",
        "#     df_train = df[~df.sessionId.isin(test_session_ids)]\n",
        "#     df_test = df[df.sessionId.isin(test_session_ids)]\n",
        "#     return df_train, df_test\n",
        "\n",
        "\n",
        "# def save_sessions(df, filepath):\n",
        "#     df = reorder_sessions_by_endtime(df)\n",
        "#     sessions = df.groupby('sessionId').itemId.apply(lambda x: ','.join(map(str, x)))\n",
        "#     sessions.to_csv(filepath, sep='\\t', header=False, index=False)\n",
        "\n",
        "\n",
        "# def save_dataset(df_train, df_test):\n",
        "#     # filter items in test but not in train\n",
        "#     df_test = df_test[df_test.itemId.isin(df_train.itemId.unique())]\n",
        "#     df_test = filter_short_sessions(df_test)\n",
        "\n",
        "#     print(f'No. of Clicks: {len(df_train) + len(df_test)}')\n",
        "#     print(f'No. of Items: {df_train.itemId.nunique()}')\n",
        "\n",
        "#     # update itemId\n",
        "#     train_itemId_new, uniques = pd.factorize(df_train.itemId)\n",
        "#     df_train = df_train.assign(itemId=train_itemId_new)\n",
        "#     oid2nid = {oid: i for i, oid in enumerate(uniques)}\n",
        "#     test_itemId_new = df_test.itemId.map(oid2nid)\n",
        "#     df_test = df_test.assign(itemId=test_itemId_new)\n",
        "\n",
        "#     print(f'saving dataset to {os.getcwd()}')\n",
        "#     save_sessions(df_train, 'train.txt')\n",
        "#     save_sessions(df_test, 'test.txt')\n",
        "#     num_items = len(uniques)\n",
        "#     with open('num_items.txt', 'w') as f:\n",
        "#         f.write(str(num_items))"
      ],
      "execution_count": null,
      "outputs": []
    },
    {
      "cell_type": "code",
      "metadata": {
        "id": "kndB2edY4ATb"
      },
      "source": [
        "# def preprocess_diginetica(csv_file):\n",
        "#     print(f'reading {csv_file}...')\n",
        "#     df = pd.read_csv(\n",
        "#         csv_file,\n",
        "#         usecols=[0, 2, 3, 4],\n",
        "#         delimiter=';',\n",
        "#         parse_dates=['eventdate'],\n",
        "#         infer_datetime_format=True,\n",
        "#     )\n",
        "#     print('start preprocessing')\n",
        "#     # timeframe (time since the first query in a session, in milliseconds)\n",
        "#     df['timestamp'] = pd.to_timedelta(df.timeframe, unit='ms') + df.eventdate\n",
        "#     df = df.drop(['eventdate', 'timeframe'], 1)\n",
        "#     df = df.sort_values(['sessionId', 'timestamp'])\n",
        "#     df = filter_short_sessions(df)\n",
        "#     df = truncate_long_sessions(df, is_sorted=True)\n",
        "#     df = filter_infreq_items(df)\n",
        "#     df = filter_short_sessions(df)\n",
        "#     df_train, df_test = split_by_time(df, pd.Timedelta(days=7))\n",
        "#     save_dataset(df_train, df_test)"
      ],
      "execution_count": null,
      "outputs": []
    },
    {
      "cell_type": "code",
      "metadata": {
        "id": "Su2jIQKw4GnK"
      },
      "source": [
        "# preprocess_diginetica('train-item-views.csv')"
      ],
      "execution_count": null,
      "outputs": []
    },
    {
      "cell_type": "markdown",
      "metadata": {
        "id": "NxoXCcpd4s8k"
      },
      "source": [
        "**END**"
      ]
    }
  ]
}